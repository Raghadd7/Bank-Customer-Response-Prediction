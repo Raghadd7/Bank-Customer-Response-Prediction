{
 "cells": [
  {
   "cell_type": "code",
   "execution_count": 1,
   "metadata": {},
   "outputs": [],
   "source": [
    "import pandas as pd\n",
    "import numpy as np\n",
    "import matplotlib.pyplot as plt "
   ]
  },
  {
   "cell_type": "code",
   "execution_count": 2,
   "metadata": {},
   "outputs": [],
   "source": [
    "df = pd.read_csv(\"file:///Users/raghad/Desktop/loan-campaign/loan_data_balanced_MM.csv\", index_col=0)"
   ]
  },
  {
   "cell_type": "code",
   "execution_count": 3,
   "metadata": {},
   "outputs": [],
   "source": [
    "m=df\n",
    "X=m.drop('TARGET', axis=1)\n",
    "y=df[\"TARGET\"]\n",
    "\n",
    "from sklearn.model_selection import train_test_split\n",
    "X_train, X_test, y_train, y_test = train_test_split(X, y, \n",
    "                                                    test_size=0.30, random_state=0)"
   ]
  },
  {
   "cell_type": "code",
   "execution_count": null,
   "metadata": {},
   "outputs": [],
   "source": [
    "#neural network model on balanced and normalized data "
   ]
  },
  {
   "cell_type": "code",
   "execution_count": 4,
   "metadata": {},
   "outputs": [],
   "source": [
    "from sklearn.neural_network import MLPClassifier\n",
    "mlp = MLPClassifier(activation='logistic',hidden_layer_sizes=(3),max_iter=500, solver='lbfgs')\n",
    "mlp.fit(X_train,y_train)\n",
    "predictions = mlp.predict(X_test)"
   ]
  },
  {
   "cell_type": "code",
   "execution_count": 5,
   "metadata": {},
   "outputs": [
    {
     "name": "stdout",
     "output_type": "stream",
     "text": [
      "[[2699   20]\n",
      " [ 413 2344]]\n",
      "              precision    recall  f1-score   support\n",
      "\n",
      "           0       0.87      0.99      0.93      2719\n",
      "           1       0.99      0.85      0.92      2757\n",
      "\n",
      "    accuracy                           0.92      5476\n",
      "   macro avg       0.93      0.92      0.92      5476\n",
      "weighted avg       0.93      0.92      0.92      5476\n",
      "\n"
     ]
    }
   ],
   "source": [
    "from sklearn.metrics import classification_report,confusion_matrix\n",
    "\n",
    "print(confusion_matrix(y_test,predictions))\n",
    "print(classification_report(y_test,predictions))"
   ]
  },
  {
   "cell_type": "code",
   "execution_count": 6,
   "metadata": {},
   "outputs": [
    {
     "data": {
      "text/plain": [
       "(2699, 20, 413, 2344)"
      ]
     },
     "execution_count": 6,
     "metadata": {},
     "output_type": "execute_result"
    }
   ],
   "source": [
    "tn, fp, fn, tp = confusion_matrix(y_test,predictions).ravel()\n",
    "(tn, fp, fn, tp)"
   ]
  },
  {
   "cell_type": "code",
   "execution_count": 7,
   "metadata": {},
   "outputs": [
    {
     "data": {
      "text/plain": [
       "0.920927684441198"
      ]
     },
     "execution_count": 7,
     "metadata": {},
     "output_type": "execute_result"
    }
   ],
   "source": [
    "from sklearn.metrics import accuracy_score\n",
    "\n",
    "accuracy_score(y_test, predictions)"
   ]
  },
  {
   "cell_type": "code",
   "execution_count": 12,
   "metadata": {},
   "outputs": [
    {
     "data": {
      "text/plain": [
       "0.9915397631133672"
      ]
     },
     "execution_count": 12,
     "metadata": {},
     "output_type": "execute_result"
    }
   ],
   "source": [
    "from sklearn.metrics import precision_score, recall_score, f1_score\n",
    "precision_score(y_test, predictions)\n",
    "\n"
   ]
  },
  {
   "cell_type": "code",
   "execution_count": 13,
   "metadata": {},
   "outputs": [
    {
     "data": {
      "text/plain": [
       "0.8501994922016685"
      ]
     },
     "execution_count": 13,
     "metadata": {},
     "output_type": "execute_result"
    }
   ],
   "source": [
    "recall_score(y_test, predictions)"
   ]
  },
  {
   "cell_type": "code",
   "execution_count": 14,
   "metadata": {},
   "outputs": [
    {
     "data": {
      "text/plain": [
       "0.9154462019136888"
      ]
     },
     "execution_count": 14,
     "metadata": {},
     "output_type": "execute_result"
    }
   ],
   "source": [
    "f1_score(y_test, predictions)"
   ]
  },
  {
   "cell_type": "code",
   "execution_count": 15,
   "metadata": {},
   "outputs": [],
   "source": [
    "class_names = np.array(['0', '1'])"
   ]
  },
  {
   "cell_type": "code",
   "execution_count": 16,
   "metadata": {},
   "outputs": [],
   "source": [
    "from sklearn.metrics import confusion_matrix\n",
    "from sklearn.utils.multiclass import unique_labels\n",
    "import matplotlib.pyplot as plt\n",
    "\n",
    "def plot_confusion_matrix(y_true, y_pred, classes,\n",
    "                          title=None,\n",
    "                          cmap=plt.cm.Blues):\n",
    "\n",
    "    cm = confusion_matrix(y_true, y_pred)\n",
    "    classes = classes[unique_labels(y_true, y_pred)]\n",
    "        print('Confusion matrix, without normalizing')\n",
    "\n",
    "    print(cm)\n",
    "\n",
    "    fig, ax = plt.subplots()\n",
    "    im = ax.imshow(cm, interpolation='nearest', cmap=cmap)\n",
    "    ax.figure.colorbar(im, ax=ax)\n",
    "    ax.set(xticks=np.arange(cm.shape[1]),\n",
    "           yticks=np.arange(cm.shape[0]),\n",
    "           xticklabels=classes, yticklabels=classes,\n",
    "           title=title,\n",
    "           ylabel='True Value',\n",
    "           xlabel='Predicted Value')\n",
    "\n",
    "    plt.setp(ax.get_xticklabels(), rotation=0, ha=\"right\",\n",
    "             rotation_mode=\"anchor\")\n",
    "\n",
    "    fmt = '.2f' if normalize else 'd'\n",
    "    thresh = cm.max() / 2.\n",
    "    for i in range(cm.shape[0]):\n",
    "        for j in range(cm.shape[1]):\n",
    "            ax.text(j, i, format(cm[i, j], fmt),\n",
    "                    ha=\"center\", va=\"center\",\n",
    "                    color=\"white\" if cm[i, j] > thresh else \"black\")\n",
    "    fig.tight_layout()\n",
    "    plt.xlim(-0.5, len(np.unique(y))-0.5)\n",
    "    plt.ylim(len(np.unique(y))-0.5, -0.5)\n",
    "    return ax\n",
    "\n",
    "np.set_printoptions(precision=2)"
   ]
  },
  {
   "cell_type": "code",
   "execution_count": 17,
   "metadata": {},
   "outputs": [
    {
     "name": "stdout",
     "output_type": "stream",
     "text": [
      "Confusion matrix, without normalization\n",
      "[[2699   20]\n",
      " [ 413 2344]]\n"
     ]
    },
    {
     "data": {
      "text/plain": [
       "<matplotlib.axes._subplots.AxesSubplot at 0x1a271c2ef0>"
      ]
     },
     "execution_count": 17,
     "metadata": {},
     "output_type": "execute_result"
    },
    {
     "data": {
      "image/png": "[encoded data removed]",
      "text/plain": [
       "<Figure size 432x288 with 2 Axes>"
      ]
     },
     "metadata": {
      "needs_background": "light"
     },
     "output_type": "display_data"
    }
   ],
   "source": [
    "plot_confusion_matrix(y_test, predictions, classes=class_names, title=' ')"
   ]
  },
  {
   "cell_type": "code",
   "execution_count": 18,
   "metadata": {},
   "outputs": [
    {
     "data": {
      "text/plain": [
       "0.9534989540816428"
      ]
     },
     "execution_count": 18,
     "metadata": {},
     "output_type": "execute_result"
    }
   ],
   "source": [
    "from sklearn.metrics import roc_curve, auc\n",
    "fpr, tpr, threshold = roc_curve(y_test, mlp.predict_proba(X_test)[:,1], pos_label= 1)\n",
    "roc_auc = auc(fpr, tpr)\n",
    "roc_auc"
   ]
  },
  {
   "cell_type": "code",
   "execution_count": 19,
   "metadata": {},
   "outputs": [
    {
     "data": {
      "image/png": "[encoded data removed]",
      "text/plain": [
       "<Figure size 504x432 with 1 Axes>"
      ]
     },
     "metadata": {
      "needs_background": "light"
     },
     "output_type": "display_data"
    }
   ],
   "source": [
    "plt.figure(figsize=(7,6))\n",
    "#plt.title('Receiver Operating Characteristic')\n",
    "plt.plot(fpr, tpr)\n",
    "#plt.legend(loc = 'lower right')\n",
    "plt.plot([0, 1], [0, 1],'k--')\n",
    "plt.xlim([-0.04, 1])\n",
    "plt.ylim([0, 1.03])\n",
    "plt.ylabel('True Positive Rate (Sensitivity)')\n",
    "plt.xlabel('False Positive Rate (1 - Specificity)')\n",
    "plt.show()"
   ]
  },
  {
   "cell_type": "code",
   "execution_count": null,
   "metadata": {},
   "outputs": [],
   "source": []
  },
  {
   "cell_type": "code",
   "execution_count": null,
   "metadata": {},
   "outputs": [],
   "source": []
  },
  {
   "cell_type": "code",
   "execution_count": null,
   "metadata": {},
   "outputs": [],
   "source": []
  },
  {
   "cell_type": "code",
   "execution_count": 20,
   "metadata": {},
   "outputs": [],
   "source": [
    "mlp2 = MLPClassifier(activation='logistic',hidden_layer_sizes=(5),max_iter=500,solver='lbfgs')\n",
    "mlp2.fit(X_train,y_train)\n",
    "predictions2 = mlp2.predict(X_test)"
   ]
  },
  {
   "cell_type": "code",
   "execution_count": 21,
   "metadata": {},
   "outputs": [
    {
     "name": "stdout",
     "output_type": "stream",
     "text": [
      "[[2644   75]\n",
      " [ 384 2373]]\n",
      "              precision    recall  f1-score   support\n",
      "\n",
      "           0       0.87      0.97      0.92      2719\n",
      "           1       0.97      0.86      0.91      2757\n",
      "\n",
      "    accuracy                           0.92      5476\n",
      "   macro avg       0.92      0.92      0.92      5476\n",
      "weighted avg       0.92      0.92      0.92      5476\n",
      "\n"
     ]
    }
   ],
   "source": [
    "print(confusion_matrix(y_test,predictions2))\n",
    "print(classification_report(y_test,predictions2))"
   ]
  },
  {
   "cell_type": "code",
   "execution_count": 22,
   "metadata": {},
   "outputs": [
    {
     "data": {
      "text/plain": [
       "(2644, 75, 384, 2373)"
      ]
     },
     "execution_count": 22,
     "metadata": {},
     "output_type": "execute_result"
    }
   ],
   "source": [
    "tn2, fp2, fn2, tp2 = confusion_matrix(y_test,predictions2).ravel()\n",
    "(tn2, fp2, fn2, tp2)"
   ]
  },
  {
   "cell_type": "code",
   "execution_count": 24,
   "metadata": {},
   "outputs": [
    {
     "data": {
      "text/plain": [
       "0.9161796932067202"
      ]
     },
     "execution_count": 24,
     "metadata": {},
     "output_type": "execute_result"
    }
   ],
   "source": [
    "accuracy_score(y_test, predictions2)"
   ]
  },
  {
   "cell_type": "code",
   "execution_count": 25,
   "metadata": {},
   "outputs": [
    {
     "data": {
      "text/plain": [
       "0.9693627450980392"
      ]
     },
     "execution_count": 25,
     "metadata": {},
     "output_type": "execute_result"
    }
   ],
   "source": [
    "precision_score(y_test, predictions2)"
   ]
  },
  {
   "cell_type": "code",
   "execution_count": 28,
   "metadata": {},
   "outputs": [
    {
     "data": {
      "text/plain": [
       "0.8501994922016685"
      ]
     },
     "execution_count": 28,
     "metadata": {},
     "output_type": "execute_result"
    }
   ],
   "source": [
    "recall_score(y_test, predictions)"
   ]
  },
  {
   "cell_type": "code",
   "execution_count": 29,
   "metadata": {},
   "outputs": [
    {
     "data": {
      "text/plain": [
       "0.9154462019136888"
      ]
     },
     "execution_count": 29,
     "metadata": {},
     "output_type": "execute_result"
    }
   ],
   "source": [
    "f1_score(y_test, predictions)"
   ]
  },
  {
   "cell_type": "code",
   "execution_count": 30,
   "metadata": {},
   "outputs": [
    {
     "name": "stdout",
     "output_type": "stream",
     "text": [
      "Confusion matrix, without normalization\n",
      "[[2644   75]\n",
      " [ 384 2373]]\n"
     ]
    },
    {
     "data": {
      "text/plain": [
       "<matplotlib.axes._subplots.AxesSubplot at 0x1a29418860>"
      ]
     },
     "execution_count": 30,
     "metadata": {},
     "output_type": "execute_result"
    },
    {
     "data": {
      "image/png": "[encoded data removed]",
      "text/plain": [
       "<Figure size 432x288 with 2 Axes>"
      ]
     },
     "metadata": {
      "needs_background": "light"
     },
     "output_type": "display_data"
    }
   ],
   "source": [
    "plot_confusion_matrix(y_test, predictions2, classes=class_names, title=' ')"
   ]
  },
  {
   "cell_type": "code",
   "execution_count": 31,
   "metadata": {},
   "outputs": [
    {
     "data": {
      "text/plain": [
       "0.9561041118645067"
      ]
     },
     "execution_count": 31,
     "metadata": {},
     "output_type": "execute_result"
    }
   ],
   "source": [
    "fpr2, tpr2, threshold = roc_curve(y_test, mlp2.predict_proba(X_test)[:,1], pos_label= 1)\n",
    "roc_auc2 = auc(fpr2, tpr2)\n",
    "roc_auc2"
   ]
  },
  {
   "cell_type": "code",
   "execution_count": 33,
   "metadata": {},
   "outputs": [
    {
     "data": {
      "image/png": "[encoded data removed]",
      "text/plain": [
       "<Figure size 504x432 with 1 Axes>"
      ]
     },
     "metadata": {
      "needs_background": "light"
     },
     "output_type": "display_data"
    }
   ],
   "source": [
    "plt.figure(figsize=(7,6))\n",
    "#plt.title('Receiver Operating Characteristic')\n",
    "plt.plot(fpr2, tpr2, label = ' AUC = %0.2f' % roc_auc)\n",
    "plt.legend(loc = 'lower right')\n",
    "plt.plot([0, 1], [0, 1],'k--')\n",
    "plt.xlim([-0.04, 1])\n",
    "plt.ylim([0, 1])\n",
    "plt.ylabel('True Positive Rate (Sensitivity)')\n",
    "plt.xlabel('False Positive Rate (1 - Specificity)')\n",
    "\n",
    "plt.show()"
   ]
  },
  {
   "cell_type": "code",
   "execution_count": null,
   "metadata": {},
   "outputs": [],
   "source": []
  },
  {
   "cell_type": "code",
   "execution_count": null,
   "metadata": {},
   "outputs": [],
   "source": [
    "###################"
   ]
  },
  {
   "cell_type": "code",
   "execution_count": null,
   "metadata": {},
   "outputs": [],
   "source": []
  },
  {
   "cell_type": "code",
   "execution_count": 34,
   "metadata": {},
   "outputs": [],
   "source": [
    "mlp3 = MLPClassifier(activation='logistic',hidden_layer_sizes=(3,5),max_iter=500,solver='lbfgs')\n",
    "mlp3.fit(X_train,y_train)\n",
    "predictions3 = mlp3.predict(X_test)"
   ]
  },
  {
   "cell_type": "code",
   "execution_count": 35,
   "metadata": {},
   "outputs": [
    {
     "name": "stdout",
     "output_type": "stream",
     "text": [
      "[[2709   10]\n",
      " [ 407 2350]]\n",
      "              precision    recall  f1-score   support\n",
      "\n",
      "           0       0.87      1.00      0.93      2719\n",
      "           1       1.00      0.85      0.92      2757\n",
      "\n",
      "    accuracy                           0.92      5476\n",
      "   macro avg       0.93      0.92      0.92      5476\n",
      "weighted avg       0.93      0.92      0.92      5476\n",
      "\n"
     ]
    }
   ],
   "source": [
    "print(confusion_matrix(y_test,predictions3))\n",
    "print(classification_report(y_test,predictions3))"
   ]
  },
  {
   "cell_type": "code",
   "execution_count": 36,
   "metadata": {},
   "outputs": [
    {
     "data": {
      "text/plain": [
       "(2709, 10, 407, 2350)"
      ]
     },
     "execution_count": 36,
     "metadata": {},
     "output_type": "execute_result"
    }
   ],
   "source": [
    "tn3, fp3, fn3, tp3 = confusion_matrix(y_test,predictions3).ravel()\n",
    "(tn3, fp3, fn3, tp3)"
   ]
  },
  {
   "cell_type": "code",
   "execution_count": 37,
   "metadata": {},
   "outputs": [
    {
     "data": {
      "text/plain": [
       "0.9238495252008766"
      ]
     },
     "execution_count": 37,
     "metadata": {},
     "output_type": "execute_result"
    }
   ],
   "source": [
    "from sklearn.metrics import accuracy_score\n",
    "\n",
    "accuracy_score(y_test, predictions3)"
   ]
  },
  {
   "cell_type": "code",
   "execution_count": 38,
   "metadata": {},
   "outputs": [
    {
     "data": {
      "text/plain": [
       "0.9957627118644068"
      ]
     },
     "execution_count": 38,
     "metadata": {},
     "output_type": "execute_result"
    }
   ],
   "source": [
    "precision_score(y_test, predictions3)"
   ]
  },
  {
   "cell_type": "code",
   "execution_count": 39,
   "metadata": {},
   "outputs": [
    {
     "data": {
      "text/plain": [
       "0.8523757707653247"
      ]
     },
     "execution_count": 39,
     "metadata": {},
     "output_type": "execute_result"
    }
   ],
   "source": [
    "recall_score(y_test, predictions3)"
   ]
  },
  {
   "cell_type": "code",
   "execution_count": 40,
   "metadata": {},
   "outputs": [
    {
     "data": {
      "text/plain": [
       "0.9185069376587846"
      ]
     },
     "execution_count": 40,
     "metadata": {},
     "output_type": "execute_result"
    }
   ],
   "source": [
    "f1_score(y_test, predictions3)"
   ]
  },
  {
   "cell_type": "code",
   "execution_count": null,
   "metadata": {},
   "outputs": [],
   "source": []
  },
  {
   "cell_type": "code",
   "execution_count": 41,
   "metadata": {},
   "outputs": [
    {
     "name": "stdout",
     "output_type": "stream",
     "text": [
      "Confusion matrix, without normalization\n",
      "[[2709   10]\n",
      " [ 407 2350]]\n"
     ]
    },
    {
     "data": {
      "text/plain": [
       "<matplotlib.axes._subplots.AxesSubplot at 0x1a29431828>"
      ]
     },
     "execution_count": 41,
     "metadata": {},
     "output_type": "execute_result"
    },
    {
     "data": {
      "image/png": "[encoded data removed]",
      "text/plain": [
       "<Figure size 432x288 with 2 Axes>"
      ]
     },
     "metadata": {
      "needs_background": "light"
     },
     "output_type": "display_data"
    }
   ],
   "source": [
    "plot_confusion_matrix(y_test, predictions3, classes=class_names, title=' ')"
   ]
  },
  {
   "cell_type": "code",
   "execution_count": 44,
   "metadata": {},
   "outputs": [
    {
     "data": {
      "text/plain": [
       "0.9553335966638399"
      ]
     },
     "execution_count": 44,
     "metadata": {},
     "output_type": "execute_result"
    }
   ],
   "source": [
    "fpr3, tpr3, threshold = roc_curve(y_test, mlp3.predict_proba(X_test)[:,1], pos_label= 1)\n",
    "roc_auc3 = auc(fpr3, tpr3)\n",
    "roc_auc3"
   ]
  },
  {
   "cell_type": "code",
   "execution_count": 46,
   "metadata": {},
   "outputs": [
    {
     "data": {
      "image/png": "[encoded data removed]",
      "text/plain": [
       "<Figure size 504x432 with 1 Axes>"
      ]
     },
     "metadata": {
      "needs_background": "light"
     },
     "output_type": "display_data"
    }
   ],
   "source": [
    "plt.figure(figsize=(7,6))\n",
    "#plt.title('Receiver Operating Characteristic')\n",
    "plt.plot(fpr3, tpr3)\n",
    "#plt.legend(loc = 'lower right')\n",
    "plt.plot([0, 1], [0, 1],'k--')\n",
    "plt.xlim([-0.04, 1])\n",
    "plt.ylim([0, 1.03])\n",
    "plt.ylabel('True Positive Rate (Sensitivity)')\n",
    "plt.xlabel('False Positive Rate (1 - Specificity)')\n",
    "\n",
    "plt.show()"
   ]
  },
  {
   "cell_type": "code",
   "execution_count": null,
   "metadata": {},
   "outputs": [],
   "source": []
  },
  {
   "cell_type": "code",
   "execution_count": null,
   "metadata": {},
   "outputs": [],
   "source": [
    "####################### neural netwrok perfromance on WoE encoded and balanced data"
   ]
  },
  {
   "cell_type": "code",
   "execution_count": null,
   "metadata": {},
   "outputs": [],
   "source": []
  },
  {
   "cell_type": "code",
   "execution_count": 47,
   "metadata": {},
   "outputs": [],
   "source": [
    "df2 = pd.read_csv(\"file:///Users/raghad/Desktop/loan-campaign/woe_data_balanced.csv\", index_col=0)"
   ]
  },
  {
   "cell_type": "code",
   "execution_count": 48,
   "metadata": {},
   "outputs": [
    {
     "data": {
      "text/html": [
       "<div>\n",
       "<style scoped>\n",
       "    .dataframe tbody tr th:only-of-type {\n",
       "        vertical-align: middle;\n",
       "    }\n",
       "\n",
       "    .dataframe tbody tr th {\n",
       "        vertical-align: top;\n",
       "    }\n",
       "\n",
       "    .dataframe thead th {\n",
       "        text-align: right;\n",
       "    }\n",
       "</style>\n",
       "<table border=\"1\" class=\"dataframe\">\n",
       "  <thead>\n",
       "    <tr style=\"text-align: right;\">\n",
       "      <th></th>\n",
       "      <th>TARGET</th>\n",
       "      <th>AGE_woe</th>\n",
       "      <th>GENDER_woe</th>\n",
       "      <th>BALANCE_woe</th>\n",
       "      <th>OCCUPATION_woe</th>\n",
       "      <th>SCR_woe</th>\n",
       "      <th>HOLDING_PERIOD_woe</th>\n",
       "      <th>ACC_TYPE_woe</th>\n",
       "      <th>LEN_OF_RLTN_IN_MNTH_woe</th>\n",
       "      <th>NO_OF_L_CR_TXNS_woe</th>\n",
       "      <th>...</th>\n",
       "      <th>AMT_L_DR_woe</th>\n",
       "      <th>FLG_HAS_ANY_CHGS_woe</th>\n",
       "      <th>AMT_MIN_BAL_NMC_CHGS_woe</th>\n",
       "      <th>AVG_AMT_PER_ATM_TXN_woe</th>\n",
       "      <th>AVG_AMT_PER_CSH_WDL_TXN_woe</th>\n",
       "      <th>AVG_AMT_PER_CHQ_TXN_woe</th>\n",
       "      <th>AVG_AMT_PER_NET_TXN_woe</th>\n",
       "      <th>AVG_AMT_PER_MOB_TXN_woe</th>\n",
       "      <th>FLG_HAS_NOMINEE_woe</th>\n",
       "      <th>FLG_HAS_OLD_LOAN_woe</th>\n",
       "    </tr>\n",
       "  </thead>\n",
       "  <tbody>\n",
       "    <tr>\n",
       "      <th>1</th>\n",
       "      <td>0</td>\n",
       "      <td>-0.276443</td>\n",
       "      <td>0.049751</td>\n",
       "      <td>0.283279</td>\n",
       "      <td>0.545144</td>\n",
       "      <td>0.328882</td>\n",
       "      <td>-1.010341</td>\n",
       "      <td>-0.105594</td>\n",
       "      <td>-0.048737</td>\n",
       "      <td>-0.175666</td>\n",
       "      <td>...</td>\n",
       "      <td>-0.081759</td>\n",
       "      <td>-0.051855</td>\n",
       "      <td>0</td>\n",
       "      <td>0.149579</td>\n",
       "      <td>-0.172017</td>\n",
       "      <td>-0.297045</td>\n",
       "      <td>0.080085</td>\n",
       "      <td>-0.139161</td>\n",
       "      <td>0.005779</td>\n",
       "      <td>-0.035084</td>\n",
       "    </tr>\n",
       "    <tr>\n",
       "      <th>2</th>\n",
       "      <td>0</td>\n",
       "      <td>0.254207</td>\n",
       "      <td>0.049751</td>\n",
       "      <td>0.024851</td>\n",
       "      <td>-0.254044</td>\n",
       "      <td>0.041719</td>\n",
       "      <td>-1.010341</td>\n",
       "      <td>-0.105594</td>\n",
       "      <td>0.055594</td>\n",
       "      <td>0.042810</td>\n",
       "      <td>...</td>\n",
       "      <td>-0.081759</td>\n",
       "      <td>0.366872</td>\n",
       "      <td>0</td>\n",
       "      <td>-0.060077</td>\n",
       "      <td>-0.172017</td>\n",
       "      <td>-0.297045</td>\n",
       "      <td>-0.095503</td>\n",
       "      <td>-0.139161</td>\n",
       "      <td>0.005779</td>\n",
       "      <td>0.033580</td>\n",
       "    </tr>\n",
       "    <tr>\n",
       "      <th>3</th>\n",
       "      <td>0</td>\n",
       "      <td>0.122605</td>\n",
       "      <td>0.049751</td>\n",
       "      <td>0.283279</td>\n",
       "      <td>0.545144</td>\n",
       "      <td>0.328882</td>\n",
       "      <td>0.744519</td>\n",
       "      <td>-0.105594</td>\n",
       "      <td>0.055594</td>\n",
       "      <td>0.042810</td>\n",
       "      <td>...</td>\n",
       "      <td>0.316692</td>\n",
       "      <td>0.366872</td>\n",
       "      <td>0</td>\n",
       "      <td>0.149579</td>\n",
       "      <td>0.165008</td>\n",
       "      <td>0.188094</td>\n",
       "      <td>0.355925</td>\n",
       "      <td>-0.139161</td>\n",
       "      <td>0.005779</td>\n",
       "      <td>-0.035084</td>\n",
       "    </tr>\n",
       "    <tr>\n",
       "      <th>4</th>\n",
       "      <td>0</td>\n",
       "      <td>-0.142227</td>\n",
       "      <td>0.049751</td>\n",
       "      <td>0.283279</td>\n",
       "      <td>-0.254044</td>\n",
       "      <td>-0.488300</td>\n",
       "      <td>0.136303</td>\n",
       "      <td>0.352876</td>\n",
       "      <td>0.055594</td>\n",
       "      <td>0.899322</td>\n",
       "      <td>...</td>\n",
       "      <td>0.316692</td>\n",
       "      <td>-0.051855</td>\n",
       "      <td>0</td>\n",
       "      <td>0.149579</td>\n",
       "      <td>-0.029742</td>\n",
       "      <td>0.188094</td>\n",
       "      <td>0.080085</td>\n",
       "      <td>0.354801</td>\n",
       "      <td>0.005779</td>\n",
       "      <td>0.033580</td>\n",
       "    </tr>\n",
       "    <tr>\n",
       "      <th>5</th>\n",
       "      <td>0</td>\n",
       "      <td>-0.090199</td>\n",
       "      <td>0.049751</td>\n",
       "      <td>-0.678547</td>\n",
       "      <td>0.002758</td>\n",
       "      <td>-0.488300</td>\n",
       "      <td>-0.652702</td>\n",
       "      <td>-0.105594</td>\n",
       "      <td>0.059568</td>\n",
       "      <td>0.374320</td>\n",
       "      <td>...</td>\n",
       "      <td>-0.081759</td>\n",
       "      <td>-0.051855</td>\n",
       "      <td>0</td>\n",
       "      <td>-0.351980</td>\n",
       "      <td>-0.159406</td>\n",
       "      <td>-0.297045</td>\n",
       "      <td>-0.195852</td>\n",
       "      <td>-0.139161</td>\n",
       "      <td>0.005779</td>\n",
       "      <td>0.033580</td>\n",
       "    </tr>\n",
       "    <tr>\n",
       "      <th>...</th>\n",
       "      <td>...</td>\n",
       "      <td>...</td>\n",
       "      <td>...</td>\n",
       "      <td>...</td>\n",
       "      <td>...</td>\n",
       "      <td>...</td>\n",
       "      <td>...</td>\n",
       "      <td>...</td>\n",
       "      <td>...</td>\n",
       "      <td>...</td>\n",
       "      <td>...</td>\n",
       "      <td>...</td>\n",
       "      <td>...</td>\n",
       "      <td>...</td>\n",
       "      <td>...</td>\n",
       "      <td>...</td>\n",
       "      <td>...</td>\n",
       "      <td>...</td>\n",
       "      <td>...</td>\n",
       "      <td>...</td>\n",
       "      <td>...</td>\n",
       "    </tr>\n",
       "    <tr>\n",
       "      <th>18326</th>\n",
       "      <td>1</td>\n",
       "      <td>-0.126658</td>\n",
       "      <td>0.049751</td>\n",
       "      <td>0.102186</td>\n",
       "      <td>-0.137215</td>\n",
       "      <td>0.328882</td>\n",
       "      <td>0.013549</td>\n",
       "      <td>-0.105594</td>\n",
       "      <td>-0.036146</td>\n",
       "      <td>0.042810</td>\n",
       "      <td>...</td>\n",
       "      <td>-0.081759</td>\n",
       "      <td>0.366872</td>\n",
       "      <td>0</td>\n",
       "      <td>0.255244</td>\n",
       "      <td>-0.172017</td>\n",
       "      <td>0.219205</td>\n",
       "      <td>0.442773</td>\n",
       "      <td>-0.139161</td>\n",
       "      <td>0.005779</td>\n",
       "      <td>-0.035084</td>\n",
       "    </tr>\n",
       "    <tr>\n",
       "      <th>18327</th>\n",
       "      <td>1</td>\n",
       "      <td>-0.140642</td>\n",
       "      <td>0.049751</td>\n",
       "      <td>-0.327177</td>\n",
       "      <td>-0.190905</td>\n",
       "      <td>0.328882</td>\n",
       "      <td>0.123809</td>\n",
       "      <td>-0.105594</td>\n",
       "      <td>0.046257</td>\n",
       "      <td>0.042810</td>\n",
       "      <td>...</td>\n",
       "      <td>-0.081759</td>\n",
       "      <td>-0.039101</td>\n",
       "      <td>0</td>\n",
       "      <td>0.295774</td>\n",
       "      <td>-0.172017</td>\n",
       "      <td>0.292057</td>\n",
       "      <td>0.442773</td>\n",
       "      <td>-0.139161</td>\n",
       "      <td>0.005779</td>\n",
       "      <td>0.031489</td>\n",
       "    </tr>\n",
       "    <tr>\n",
       "      <th>18328</th>\n",
       "      <td>1</td>\n",
       "      <td>-0.130739</td>\n",
       "      <td>0.049751</td>\n",
       "      <td>-0.207327</td>\n",
       "      <td>-0.152884</td>\n",
       "      <td>0.328882</td>\n",
       "      <td>0.045726</td>\n",
       "      <td>-0.105594</td>\n",
       "      <td>-0.012098</td>\n",
       "      <td>0.042810</td>\n",
       "      <td>...</td>\n",
       "      <td>-0.081759</td>\n",
       "      <td>0.040603</td>\n",
       "      <td>0</td>\n",
       "      <td>0.267072</td>\n",
       "      <td>-0.172017</td>\n",
       "      <td>0.292057</td>\n",
       "      <td>0.442773</td>\n",
       "      <td>-0.139161</td>\n",
       "      <td>0.005779</td>\n",
       "      <td>0.018419</td>\n",
       "    </tr>\n",
       "    <tr>\n",
       "      <th>18329</th>\n",
       "      <td>1</td>\n",
       "      <td>-0.090199</td>\n",
       "      <td>0.049751</td>\n",
       "      <td>0.123377</td>\n",
       "      <td>-0.156139</td>\n",
       "      <td>0.328882</td>\n",
       "      <td>0.744519</td>\n",
       "      <td>0.352876</td>\n",
       "      <td>-0.134095</td>\n",
       "      <td>0.899322</td>\n",
       "      <td>...</td>\n",
       "      <td>0.316692</td>\n",
       "      <td>0.207233</td>\n",
       "      <td>0</td>\n",
       "      <td>0.300367</td>\n",
       "      <td>0.265384</td>\n",
       "      <td>0.127732</td>\n",
       "      <td>-0.195852</td>\n",
       "      <td>0.585998</td>\n",
       "      <td>0.005779</td>\n",
       "      <td>0.033580</td>\n",
       "    </tr>\n",
       "    <tr>\n",
       "      <th>18330</th>\n",
       "      <td>1</td>\n",
       "      <td>-0.090199</td>\n",
       "      <td>0.049751</td>\n",
       "      <td>0.107695</td>\n",
       "      <td>-0.171722</td>\n",
       "      <td>0.328882</td>\n",
       "      <td>0.549544</td>\n",
       "      <td>0.352876</td>\n",
       "      <td>-0.152698</td>\n",
       "      <td>0.899322</td>\n",
       "      <td>...</td>\n",
       "      <td>0.316692</td>\n",
       "      <td>0.232642</td>\n",
       "      <td>0</td>\n",
       "      <td>0.300367</td>\n",
       "      <td>0.265384</td>\n",
       "      <td>0.292057</td>\n",
       "      <td>-0.195852</td>\n",
       "      <td>0.585998</td>\n",
       "      <td>0.005779</td>\n",
       "      <td>0.011569</td>\n",
       "    </tr>\n",
       "  </tbody>\n",
       "</table>\n",
       "<p>18330 rows × 33 columns</p>\n",
       "</div>"
      ],
      "text/plain": [
       "       TARGET   AGE_woe  GENDER_woe  BALANCE_woe  OCCUPATION_woe   SCR_woe  \\\n",
       "1           0 -0.276443    0.049751     0.283279        0.545144  0.328882   \n",
       "2           0  0.254207    0.049751     0.024851       -0.254044  0.041719   \n",
       "3           0  0.122605    0.049751     0.283279        0.545144  0.328882   \n",
       "4           0 -0.142227    0.049751     0.283279       -0.254044 -0.488300   \n",
       "5           0 -0.090199    0.049751    -0.678547        0.002758 -0.488300   \n",
       "...       ...       ...         ...          ...             ...       ...   \n",
       "18326       1 -0.126658    0.049751     0.102186       -0.137215  0.328882   \n",
       "18327       1 -0.140642    0.049751    -0.327177       -0.190905  0.328882   \n",
       "18328       1 -0.130739    0.049751    -0.207327       -0.152884  0.328882   \n",
       "18329       1 -0.090199    0.049751     0.123377       -0.156139  0.328882   \n",
       "18330       1 -0.090199    0.049751     0.107695       -0.171722  0.328882   \n",
       "\n",
       "       HOLDING_PERIOD_woe  ACC_TYPE_woe  LEN_OF_RLTN_IN_MNTH_woe  \\\n",
       "1               -1.010341     -0.105594                -0.048737   \n",
       "2               -1.010341     -0.105594                 0.055594   \n",
       "3                0.744519     -0.105594                 0.055594   \n",
       "4                0.136303      0.352876                 0.055594   \n",
       "5               -0.652702     -0.105594                 0.059568   \n",
       "...                   ...           ...                      ...   \n",
       "18326            0.013549     -0.105594                -0.036146   \n",
       "18327            0.123809     -0.105594                 0.046257   \n",
       "18328            0.045726     -0.105594                -0.012098   \n",
       "18329            0.744519      0.352876                -0.134095   \n",
       "18330            0.549544      0.352876                -0.152698   \n",
       "\n",
       "       NO_OF_L_CR_TXNS_woe  ...  AMT_L_DR_woe  FLG_HAS_ANY_CHGS_woe  \\\n",
       "1                -0.175666  ...     -0.081759             -0.051855   \n",
       "2                 0.042810  ...     -0.081759              0.366872   \n",
       "3                 0.042810  ...      0.316692              0.366872   \n",
       "4                 0.899322  ...      0.316692             -0.051855   \n",
       "5                 0.374320  ...     -0.081759             -0.051855   \n",
       "...                    ...  ...           ...                   ...   \n",
       "18326             0.042810  ...     -0.081759              0.366872   \n",
       "18327             0.042810  ...     -0.081759             -0.039101   \n",
       "18328             0.042810  ...     -0.081759              0.040603   \n",
       "18329             0.899322  ...      0.316692              0.207233   \n",
       "18330             0.899322  ...      0.316692              0.232642   \n",
       "\n",
       "       AMT_MIN_BAL_NMC_CHGS_woe  AVG_AMT_PER_ATM_TXN_woe  \\\n",
       "1                             0                 0.149579   \n",
       "2                             0                -0.060077   \n",
       "3                             0                 0.149579   \n",
       "4                             0                 0.149579   \n",
       "5                             0                -0.351980   \n",
       "...                         ...                      ...   \n",
       "18326                         0                 0.255244   \n",
       "18327                         0                 0.295774   \n",
       "18328                         0                 0.267072   \n",
       "18329                         0                 0.300367   \n",
       "18330                         0                 0.300367   \n",
       "\n",
       "       AVG_AMT_PER_CSH_WDL_TXN_woe  AVG_AMT_PER_CHQ_TXN_woe  \\\n",
       "1                        -0.172017                -0.297045   \n",
       "2                        -0.172017                -0.297045   \n",
       "3                         0.165008                 0.188094   \n",
       "4                        -0.029742                 0.188094   \n",
       "5                        -0.159406                -0.297045   \n",
       "...                            ...                      ...   \n",
       "18326                    -0.172017                 0.219205   \n",
       "18327                    -0.172017                 0.292057   \n",
       "18328                    -0.172017                 0.292057   \n",
       "18329                     0.265384                 0.127732   \n",
       "18330                     0.265384                 0.292057   \n",
       "\n",
       "       AVG_AMT_PER_NET_TXN_woe  AVG_AMT_PER_MOB_TXN_woe  FLG_HAS_NOMINEE_woe  \\\n",
       "1                     0.080085                -0.139161             0.005779   \n",
       "2                    -0.095503                -0.139161             0.005779   \n",
       "3                     0.355925                -0.139161             0.005779   \n",
       "4                     0.080085                 0.354801             0.005779   \n",
       "5                    -0.195852                -0.139161             0.005779   \n",
       "...                        ...                      ...                  ...   \n",
       "18326                 0.442773                -0.139161             0.005779   \n",
       "18327                 0.442773                -0.139161             0.005779   \n",
       "18328                 0.442773                -0.139161             0.005779   \n",
       "18329                -0.195852                 0.585998             0.005779   \n",
       "18330                -0.195852                 0.585998             0.005779   \n",
       "\n",
       "       FLG_HAS_OLD_LOAN_woe  \n",
       "1                 -0.035084  \n",
       "2                  0.033580  \n",
       "3                 -0.035084  \n",
       "4                  0.033580  \n",
       "5                  0.033580  \n",
       "...                     ...  \n",
       "18326             -0.035084  \n",
       "18327              0.031489  \n",
       "18328              0.018419  \n",
       "18329              0.033580  \n",
       "18330              0.011569  \n",
       "\n",
       "[18330 rows x 33 columns]"
      ]
     },
     "execution_count": 48,
     "metadata": {},
     "output_type": "execute_result"
    }
   ],
   "source": [
    "df2"
   ]
  },
  {
   "cell_type": "code",
   "execution_count": 49,
   "metadata": {},
   "outputs": [],
   "source": [
    "m=df2\n",
    "X=m.drop('TARGET', axis=1)\n",
    "y=df2[\"TARGET\"]\n",
    "\n",
    "from sklearn.model_selection import train_test_split\n",
    "X_train, X_test, y_train, y_test = train_test_split(X, y, \n",
    "                                                    test_size=0.30, random_state=0)"
   ]
  },
  {
   "cell_type": "code",
   "execution_count": 50,
   "metadata": {},
   "outputs": [],
   "source": [
    "mlp4 = MLPClassifier(activation='logistic',hidden_layer_sizes=(3),max_iter=500,solver='lbfgs')\n",
    "mlp4.fit(X_train,y_train)\n",
    "predictions4 = mlp4.predict(X_test)"
   ]
  },
  {
   "cell_type": "code",
   "execution_count": 51,
   "metadata": {},
   "outputs": [
    {
     "name": "stdout",
     "output_type": "stream",
     "text": [
      "[[1792  880]\n",
      " [ 813 2014]]\n",
      "              precision    recall  f1-score   support\n",
      "\n",
      "           0       0.69      0.67      0.68      2672\n",
      "           1       0.70      0.71      0.70      2827\n",
      "\n",
      "    accuracy                           0.69      5499\n",
      "   macro avg       0.69      0.69      0.69      5499\n",
      "weighted avg       0.69      0.69      0.69      5499\n",
      "\n"
     ]
    }
   ],
   "source": [
    "print(confusion_matrix(y_test,predictions4))\n",
    "print(classification_report(y_test,predictions4))"
   ]
  },
  {
   "cell_type": "code",
   "execution_count": 52,
   "metadata": {},
   "outputs": [
    {
     "data": {
      "text/plain": [
       "(1792, 880, 813, 2014)"
      ]
     },
     "execution_count": 52,
     "metadata": {},
     "output_type": "execute_result"
    }
   ],
   "source": [
    "tn4, fp4, fn4, tp4 = confusion_matrix(y_test,predictions4).ravel()\n",
    "(tn4, fp4, fn4, tp4)"
   ]
  },
  {
   "cell_type": "code",
   "execution_count": 53,
   "metadata": {},
   "outputs": [
    {
     "data": {
      "text/plain": [
       "0.6921258410620112"
      ]
     },
     "execution_count": 53,
     "metadata": {},
     "output_type": "execute_result"
    }
   ],
   "source": [
    "accuracy_score(y_test, predictions4)"
   ]
  },
  {
   "cell_type": "code",
   "execution_count": 54,
   "metadata": {},
   "outputs": [
    {
     "data": {
      "text/plain": [
       "0.695922598479613"
      ]
     },
     "execution_count": 54,
     "metadata": {},
     "output_type": "execute_result"
    }
   ],
   "source": [
    "precision_score(y_test, predictions4)"
   ]
  },
  {
   "cell_type": "code",
   "execution_count": 55,
   "metadata": {},
   "outputs": [
    {
     "data": {
      "text/plain": [
       "0.7124159886805801"
      ]
     },
     "execution_count": 55,
     "metadata": {},
     "output_type": "execute_result"
    }
   ],
   "source": [
    "recall_score(y_test, predictions4)"
   ]
  },
  {
   "cell_type": "code",
   "execution_count": 56,
   "metadata": {},
   "outputs": [
    {
     "data": {
      "text/plain": [
       "0.7040727145603917"
      ]
     },
     "execution_count": 56,
     "metadata": {},
     "output_type": "execute_result"
    }
   ],
   "source": [
    "f1_score(y_test, predictions4)"
   ]
  },
  {
   "cell_type": "code",
   "execution_count": 57,
   "metadata": {},
   "outputs": [
    {
     "name": "stdout",
     "output_type": "stream",
     "text": [
      "Confusion matrix, without normalization\n",
      "[[1792  880]\n",
      " [ 813 2014]]\n"
     ]
    },
    {
     "data": {
      "text/plain": [
       "<matplotlib.axes._subplots.AxesSubplot at 0x1a29876eb8>"
      ]
     },
     "execution_count": 57,
     "metadata": {},
     "output_type": "execute_result"
    },
    {
     "data": {
      "image/png": "[encoded data removed]",
      "text/plain": [
       "<Figure size 432x288 with 2 Axes>"
      ]
     },
     "metadata": {
      "needs_background": "light"
     },
     "output_type": "display_data"
    }
   ],
   "source": [
    "plot_confusion_matrix(y_test, predictions4, classes=class_names, title=' ')"
   ]
  },
  {
   "cell_type": "code",
   "execution_count": 58,
   "metadata": {},
   "outputs": [
    {
     "data": {
      "text/plain": [
       "0.7611630735698748"
      ]
     },
     "execution_count": 58,
     "metadata": {},
     "output_type": "execute_result"
    }
   ],
   "source": [
    "fpr4, tpr4, threshold = roc_curve(y_test, mlp4.predict_proba(X_test)[:,1], pos_label= 1)\n",
    "roc_auc4 = auc(fpr4, tpr4)\n",
    "roc_auc4"
   ]
  },
  {
   "cell_type": "code",
   "execution_count": 59,
   "metadata": {},
   "outputs": [
    {
     "data": {
      "image/png": "[encoded data removed]",
      "text/plain": [
       "<Figure size 504x432 with 1 Axes>"
      ]
     },
     "metadata": {
      "needs_background": "light"
     },
     "output_type": "display_data"
    }
   ],
   "source": [
    "plt.figure(figsize=(7,6))\n",
    "#plt.title('Receiver Operating Characteristic')\n",
    "plt.plot(fpr4, tpr4)\n",
    "#plt.legend(loc = 'lower right')\n",
    "plt.plot([0, 1], [0, 1],'k--')\n",
    "plt.xlim([-0.04, 1])\n",
    "plt.ylim([0, 1.02])\n",
    "plt.ylabel('True Positive Rate (Sensitivity)')\n",
    "plt.xlabel('False Positive Rate (1 - Specificity)')\n",
    "\n",
    "plt.show()"
   ]
  },
  {
   "cell_type": "code",
   "execution_count": null,
   "metadata": {},
   "outputs": [],
   "source": []
  },
  {
   "cell_type": "code",
   "execution_count": null,
   "metadata": {},
   "outputs": [],
   "source": []
  },
  {
   "cell_type": "code",
   "execution_count": 60,
   "metadata": {},
   "outputs": [],
   "source": [
    "mlp5 = MLPClassifier(activation='logistic',hidden_layer_sizes=(5),max_iter=500,solver='lbfgs')\n",
    "mlp5.fit(X_train,y_train)\n",
    "predictions5 = mlp5.predict(X_test)"
   ]
  },
  {
   "cell_type": "code",
   "execution_count": 61,
   "metadata": {},
   "outputs": [
    {
     "name": "stdout",
     "output_type": "stream",
     "text": [
      "[[1478 1194]\n",
      " [ 533 2294]]\n",
      "              precision    recall  f1-score   support\n",
      "\n",
      "           0       0.73      0.55      0.63      2672\n",
      "           1       0.66      0.81      0.73      2827\n",
      "\n",
      "    accuracy                           0.69      5499\n",
      "   macro avg       0.70      0.68      0.68      5499\n",
      "weighted avg       0.70      0.69      0.68      5499\n",
      "\n"
     ]
    }
   ],
   "source": [
    "print(confusion_matrix(y_test,predictions5))\n",
    "print(classification_report(y_test,predictions5))"
   ]
  },
  {
   "cell_type": "code",
   "execution_count": 62,
   "metadata": {},
   "outputs": [
    {
     "data": {
      "text/plain": [
       "(1478, 1194, 533, 2294)"
      ]
     },
     "execution_count": 62,
     "metadata": {},
     "output_type": "execute_result"
    }
   ],
   "source": [
    "tn5, fp5, fn5, tp5 = confusion_matrix(y_test,predictions5).ravel()\n",
    "(tn5, fp5, fn5, tp5)"
   ]
  },
  {
   "cell_type": "code",
   "execution_count": 63,
   "metadata": {},
   "outputs": [
    {
     "data": {
      "text/plain": [
       "0.6859428987088562"
      ]
     },
     "execution_count": 63,
     "metadata": {},
     "output_type": "execute_result"
    }
   ],
   "source": [
    "accuracy_score(y_test, predictions5)"
   ]
  },
  {
   "cell_type": "code",
   "execution_count": 64,
   "metadata": {},
   "outputs": [
    {
     "data": {
      "text/plain": [
       "0.6576834862385321"
      ]
     },
     "execution_count": 64,
     "metadata": {},
     "output_type": "execute_result"
    }
   ],
   "source": [
    "precision_score(y_test, predictions5)"
   ]
  },
  {
   "cell_type": "code",
   "execution_count": 65,
   "metadata": {},
   "outputs": [
    {
     "data": {
      "text/plain": [
       "0.8114609126282278"
      ]
     },
     "execution_count": 65,
     "metadata": {},
     "output_type": "execute_result"
    }
   ],
   "source": [
    "recall_score(y_test, predictions5)"
   ]
  },
  {
   "cell_type": "code",
   "execution_count": 66,
   "metadata": {},
   "outputs": [
    {
     "data": {
      "text/plain": [
       "0.7265241488519398"
      ]
     },
     "execution_count": 66,
     "metadata": {},
     "output_type": "execute_result"
    }
   ],
   "source": [
    "f1_score(y_test, predictions5)"
   ]
  },
  {
   "cell_type": "code",
   "execution_count": 67,
   "metadata": {},
   "outputs": [
    {
     "name": "stdout",
     "output_type": "stream",
     "text": [
      "Confusion matrix, without normalization\n",
      "[[1478 1194]\n",
      " [ 533 2294]]\n"
     ]
    },
    {
     "data": {
      "text/plain": [
       "<matplotlib.axes._subplots.AxesSubplot at 0x1a273082e8>"
      ]
     },
     "execution_count": 67,
     "metadata": {},
     "output_type": "execute_result"
    },
    {
     "data": {
      "image/png": "[encoded data removed]",
      "text/plain": [
       "<Figure size 432x288 with 2 Axes>"
      ]
     },
     "metadata": {
      "needs_background": "light"
     },
     "output_type": "display_data"
    }
   ],
   "source": [
    "plot_confusion_matrix(y_test, predictions5, classes=class_names, title=' ')"
   ]
  },
  {
   "cell_type": "code",
   "execution_count": 68,
   "metadata": {},
   "outputs": [
    {
     "data": {
      "text/plain": [
       "0.7559509562410376"
      ]
     },
     "execution_count": 68,
     "metadata": {},
     "output_type": "execute_result"
    }
   ],
   "source": [
    "fpr5, tpr5, threshold = roc_curve(y_test, mlp5.predict_proba(X_test)[:,1], pos_label= 1)\n",
    "roc_auc5 = auc(fpr5, tpr5)\n",
    "roc_auc5"
   ]
  },
  {
   "cell_type": "code",
   "execution_count": 69,
   "metadata": {},
   "outputs": [
    {
     "data": {
      "image/png": "[encoded data removed]",
      "text/plain": [
       "<Figure size 504x432 with 1 Axes>"
      ]
     },
     "metadata": {
      "needs_background": "light"
     },
     "output_type": "display_data"
    }
   ],
   "source": [
    "plt.figure(figsize=(7,6))\n",
    "#plt.title('Receiver Operating Characteristic')\n",
    "plt.plot(fpr5, tpr5)\n",
    "#plt.legend(loc = 'lower right')\n",
    "plt.plot([0, 1], [0, 1],'k--')\n",
    "plt.xlim([-0.04, 1])\n",
    "plt.ylim([0, 1.02])\n",
    "plt.ylabel('True Positive Rate (Sensitivity)')\n",
    "plt.xlabel('False Positive Rate (1 - Specificity)')\n",
    "\n",
    "plt.show()"
   ]
  },
  {
   "cell_type": "code",
   "execution_count": null,
   "metadata": {},
   "outputs": [],
   "source": []
  },
  {
   "cell_type": "code",
   "execution_count": null,
   "metadata": {},
   "outputs": [],
   "source": []
  },
  {
   "cell_type": "code",
   "execution_count": null,
   "metadata": {},
   "outputs": [],
   "source": []
  },
  {
   "cell_type": "code",
   "execution_count": 162,
   "metadata": {},
   "outputs": [],
   "source": [
    "mlp6 = MLPClassifier(activation='logistic',hidden_layer_sizes=(3,5), max_iter=500, solver='lbfgs')\n",
    "mlp6.fit(X_train,y_train)\n",
    "predictions6 = mlp6.predict(X_test)"
   ]
  },
  {
   "cell_type": "code",
   "execution_count": 163,
   "metadata": {},
   "outputs": [
    {
     "name": "stdout",
     "output_type": "stream",
     "text": [
      "[[1591 1081]\n",
      " [ 607 2220]]\n",
      "              precision    recall  f1-score   support\n",
      "\n",
      "           0       0.72      0.60      0.65      2672\n",
      "           1       0.67      0.79      0.72      2827\n",
      "\n",
      "    accuracy                           0.69      5499\n",
      "   macro avg       0.70      0.69      0.69      5499\n",
      "weighted avg       0.70      0.69      0.69      5499\n",
      "\n"
     ]
    }
   ],
   "source": [
    "print(confusion_matrix(y_test,predictions6))\n",
    "print(classification_report(y_test,predictions6))"
   ]
  },
  {
   "cell_type": "code",
   "execution_count": 164,
   "metadata": {},
   "outputs": [
    {
     "data": {
      "text/plain": [
       "(1591, 1081, 607, 2220)"
      ]
     },
     "execution_count": 164,
     "metadata": {},
     "output_type": "execute_result"
    }
   ],
   "source": [
    "tn6, fp6, fn6, tp6 = confusion_matrix(y_test,predictions6).ravel()\n",
    "(tn6, fp6, fn6, tp6)"
   ]
  },
  {
   "cell_type": "code",
   "execution_count": 165,
   "metadata": {},
   "outputs": [
    {
     "data": {
      "text/plain": [
       "0.6930350972904165"
      ]
     },
     "execution_count": 165,
     "metadata": {},
     "output_type": "execute_result"
    }
   ],
   "source": [
    "accuracy_score(y_test, predictions6)"
   ]
  },
  {
   "cell_type": "code",
   "execution_count": 172,
   "metadata": {},
   "outputs": [
    {
     "data": {
      "text/plain": [
       "0.67252347773402"
      ]
     },
     "execution_count": 172,
     "metadata": {},
     "output_type": "execute_result"
    }
   ],
   "source": [
    "precision_score(y_test, predictions6)"
   ]
  },
  {
   "cell_type": "code",
   "execution_count": 173,
   "metadata": {},
   "outputs": [
    {
     "data": {
      "text/plain": [
       "0.7852847541563495"
      ]
     },
     "execution_count": 173,
     "metadata": {},
     "output_type": "execute_result"
    }
   ],
   "source": [
    "recall_score(y_test, predictions6)"
   ]
  },
  {
   "cell_type": "code",
   "execution_count": 174,
   "metadata": {},
   "outputs": [
    {
     "data": {
      "text/plain": [
       "0.7245430809399478"
      ]
     },
     "execution_count": 174,
     "metadata": {},
     "output_type": "execute_result"
    }
   ],
   "source": [
    "f1_score(y_test, predictions6)"
   ]
  },
  {
   "cell_type": "code",
   "execution_count": 176,
   "metadata": {},
   "outputs": [
    {
     "name": "stdout",
     "output_type": "stream",
     "text": [
      "Confusion matrix, without normalization\n",
      "[[1591 1081]\n",
      " [ 607 2220]]\n"
     ]
    },
    {
     "data": {
      "text/plain": [
       "<matplotlib.axes._subplots.AxesSubplot at 0x123ec42b0>"
      ]
     },
     "execution_count": 176,
     "metadata": {},
     "output_type": "execute_result"
    },
    {
     "data": {
      "image/png": "[encoded data removed]",
      "text/plain": [
       "<Figure size 432x288 with 2 Axes>"
      ]
     },
     "metadata": {
      "needs_background": "light"
     },
     "output_type": "display_data"
    }
   ],
   "source": [
    "plot_confusion_matrix(y_test, predictions6, classes=class_names, title=' ')"
   ]
  },
  {
   "cell_type": "code",
   "execution_count": 177,
   "metadata": {},
   "outputs": [
    {
     "data": {
      "text/plain": [
       "0.758351752455471"
      ]
     },
     "execution_count": 177,
     "metadata": {},
     "output_type": "execute_result"
    }
   ],
   "source": [
    "fpr6, tpr6, threshold = roc_curve(y_test, mlp6.predict_proba(X_test)[:,1], pos_label= 1)\n",
    "roc_auc6 = auc(fpr6, tpr6)\n",
    "roc_auc6"
   ]
  },
  {
   "cell_type": "code",
   "execution_count": 179,
   "metadata": {},
   "outputs": [
    {
     "data": {
      "image/png": "[encoded data removed]",
      "text/plain": [
       "<Figure size 504x432 with 1 Axes>"
      ]
     },
     "metadata": {
      "needs_background": "light"
     },
     "output_type": "display_data"
    }
   ],
   "source": [
    "plt.figure(figsize=(7,6))\n",
    "#plt.title('Receiver Operating Characteristic')\n",
    "plt.plot(fpr6, tpr6)\n",
    "#plt.legend(loc = 'lower right')\n",
    "plt.plot([0, 1], [0, 1],'k--')\n",
    "plt.xlim([-0.04, 1])\n",
    "plt.ylim([0, 1.03])\n",
    "plt.ylabel('True Positive Rate (Sensitivity)')\n",
    "plt.xlabel('False Positive Rate (1 - Specificity)')\n",
    "plt.show()"
   ]
  },
  {
   "cell_type": "code",
   "execution_count": null,
   "metadata": {},
   "outputs": [],
   "source": []
  },
  {
   "cell_type": "code",
   "execution_count": null,
   "metadata": {},
   "outputs": [],
   "source": []
  },
  {
   "cell_type": "code",
   "execution_count": null,
   "metadata": {},
   "outputs": [],
   "source": []
  },
  {
   "cell_type": "code",
   "execution_count": null,
   "metadata": {},
   "outputs": [],
   "source": [
    "################# neural network perfromance on the imbalanced normalized dataset"
   ]
  },
  {
   "cell_type": "code",
   "execution_count": 183,
   "metadata": {},
   "outputs": [],
   "source": [
    "df3 = pd.read_csv(\"file:///Users/raghad/Desktop/loan-campaign/loan_data_encoded1h_MM.csv\", index_col=0)"
   ]
  },
  {
   "cell_type": "code",
   "execution_count": 184,
   "metadata": {},
   "outputs": [
    {
     "data": {
      "text/html": [
       "<div>\n",
       "<style scoped>\n",
       "    .dataframe tbody tr th:only-of-type {\n",
       "        vertical-align: middle;\n",
       "    }\n",
       "\n",
       "    .dataframe tbody tr th {\n",
       "        vertical-align: top;\n",
       "    }\n",
       "\n",
       "    .dataframe thead th {\n",
       "        text-align: right;\n",
       "    }\n",
       "</style>\n",
       "<table border=\"1\" class=\"dataframe\">\n",
       "  <thead>\n",
       "    <tr style=\"text-align: right;\">\n",
       "      <th></th>\n",
       "      <th>AGE</th>\n",
       "      <th>BALANCE</th>\n",
       "      <th>SCR</th>\n",
       "      <th>HOLDING_PERIOD</th>\n",
       "      <th>LEN_OF_RLTN_IN_MNTH</th>\n",
       "      <th>NO_OF_L_CR_TXNS</th>\n",
       "      <th>NO_OF_L_DR_TXNS</th>\n",
       "      <th>TOT_NO_OF_L_TXNS</th>\n",
       "      <th>NO_OF_BR_CSH_WDL_DR_TXNS</th>\n",
       "      <th>NO_OF_ATM_DR_TXNS</th>\n",
       "      <th>...</th>\n",
       "      <th>ACC.TYPE.SA</th>\n",
       "      <th>FLG.HAS.CC.0</th>\n",
       "      <th>FLG.HAS.CC.1</th>\n",
       "      <th>FLG.HAS.ANY.CHGS.0</th>\n",
       "      <th>FLG.HAS.ANY.CHGS.1</th>\n",
       "      <th>FLG.HAS.NOMINEE.0</th>\n",
       "      <th>FLG.HAS.NOMINEE.1</th>\n",
       "      <th>FLG.HAS.OLD.LOAN.0</th>\n",
       "      <th>FLG.HAS.OLD.LOAN.1</th>\n",
       "      <th>TARGET</th>\n",
       "    </tr>\n",
       "  </thead>\n",
       "  <tbody>\n",
       "    <tr>\n",
       "      <th>1</th>\n",
       "      <td>0.176471</td>\n",
       "      <td>0.000405</td>\n",
       "      <td>0.751947</td>\n",
       "      <td>0.966667</td>\n",
       "      <td>0.609375</td>\n",
       "      <td>0.093333</td>\n",
       "      <td>0.040541</td>\n",
       "      <td>0.067114</td>\n",
       "      <td>0.000000</td>\n",
       "      <td>0.04</td>\n",
       "      <td>...</td>\n",
       "      <td>1</td>\n",
       "      <td>1</td>\n",
       "      <td>0</td>\n",
       "      <td>1</td>\n",
       "      <td>0</td>\n",
       "      <td>0</td>\n",
       "      <td>1</td>\n",
       "      <td>0</td>\n",
       "      <td>1</td>\n",
       "      <td>0</td>\n",
       "    </tr>\n",
       "    <tr>\n",
       "      <th>2</th>\n",
       "      <td>0.764706</td>\n",
       "      <td>0.034387</td>\n",
       "      <td>0.249166</td>\n",
       "      <td>0.900000</td>\n",
       "      <td>0.390625</td>\n",
       "      <td>0.106667</td>\n",
       "      <td>0.027027</td>\n",
       "      <td>0.067114</td>\n",
       "      <td>0.000000</td>\n",
       "      <td>0.04</td>\n",
       "      <td>...</td>\n",
       "      <td>1</td>\n",
       "      <td>1</td>\n",
       "      <td>0</td>\n",
       "      <td>0</td>\n",
       "      <td>1</td>\n",
       "      <td>0</td>\n",
       "      <td>1</td>\n",
       "      <td>1</td>\n",
       "      <td>0</td>\n",
       "      <td>0</td>\n",
       "    </tr>\n",
       "    <tr>\n",
       "      <th>3</th>\n",
       "      <td>0.558824</td>\n",
       "      <td>0.002179</td>\n",
       "      <td>0.559511</td>\n",
       "      <td>0.033333</td>\n",
       "      <td>0.166667</td>\n",
       "      <td>0.133333</td>\n",
       "      <td>0.067568</td>\n",
       "      <td>0.100671</td>\n",
       "      <td>0.066667</td>\n",
       "      <td>0.04</td>\n",
       "      <td>...</td>\n",
       "      <td>1</td>\n",
       "      <td>1</td>\n",
       "      <td>0</td>\n",
       "      <td>0</td>\n",
       "      <td>1</td>\n",
       "      <td>0</td>\n",
       "      <td>1</td>\n",
       "      <td>0</td>\n",
       "      <td>1</td>\n",
       "      <td>0</td>\n",
       "    </tr>\n",
       "    <tr>\n",
       "      <th>4</th>\n",
       "      <td>0.941176</td>\n",
       "      <td>0.008579</td>\n",
       "      <td>0.106785</td>\n",
       "      <td>0.400000</td>\n",
       "      <td>0.406250</td>\n",
       "      <td>0.480000</td>\n",
       "      <td>0.189189</td>\n",
       "      <td>0.335570</td>\n",
       "      <td>0.266667</td>\n",
       "      <td>0.08</td>\n",
       "      <td>...</td>\n",
       "      <td>0</td>\n",
       "      <td>1</td>\n",
       "      <td>0</td>\n",
       "      <td>1</td>\n",
       "      <td>0</td>\n",
       "      <td>0</td>\n",
       "      <td>1</td>\n",
       "      <td>1</td>\n",
       "      <td>0</td>\n",
       "      <td>0</td>\n",
       "    </tr>\n",
       "    <tr>\n",
       "      <th>5</th>\n",
       "      <td>0.441176</td>\n",
       "      <td>0.199945</td>\n",
       "      <td>0.074527</td>\n",
       "      <td>0.766667</td>\n",
       "      <td>0.812500</td>\n",
       "      <td>0.266667</td>\n",
       "      <td>0.013514</td>\n",
       "      <td>0.140940</td>\n",
       "      <td>0.066667</td>\n",
       "      <td>0.00</td>\n",
       "      <td>...</td>\n",
       "      <td>1</td>\n",
       "      <td>1</td>\n",
       "      <td>0</td>\n",
       "      <td>1</td>\n",
       "      <td>0</td>\n",
       "      <td>0</td>\n",
       "      <td>1</td>\n",
       "      <td>1</td>\n",
       "      <td>0</td>\n",
       "      <td>0</td>\n",
       "    </tr>\n",
       "    <tr>\n",
       "      <th>...</th>\n",
       "      <td>...</td>\n",
       "      <td>...</td>\n",
       "      <td>...</td>\n",
       "      <td>...</td>\n",
       "      <td>...</td>\n",
       "      <td>...</td>\n",
       "      <td>...</td>\n",
       "      <td>...</td>\n",
       "      <td>...</td>\n",
       "      <td>...</td>\n",
       "      <td>...</td>\n",
       "      <td>...</td>\n",
       "      <td>...</td>\n",
       "      <td>...</td>\n",
       "      <td>...</td>\n",
       "      <td>...</td>\n",
       "      <td>...</td>\n",
       "      <td>...</td>\n",
       "      <td>...</td>\n",
       "      <td>...</td>\n",
       "      <td>...</td>\n",
       "    </tr>\n",
       "    <tr>\n",
       "      <th>10251</th>\n",
       "      <td>0.558824</td>\n",
       "      <td>0.026315</td>\n",
       "      <td>0.338154</td>\n",
       "      <td>0.166667</td>\n",
       "      <td>0.067708</td>\n",
       "      <td>0.026667</td>\n",
       "      <td>0.027027</td>\n",
       "      <td>0.026846</td>\n",
       "      <td>0.066667</td>\n",
       "      <td>0.00</td>\n",
       "      <td>...</td>\n",
       "      <td>1</td>\n",
       "      <td>1</td>\n",
       "      <td>0</td>\n",
       "      <td>1</td>\n",
       "      <td>0</td>\n",
       "      <td>0</td>\n",
       "      <td>1</td>\n",
       "      <td>1</td>\n",
       "      <td>0</td>\n",
       "      <td>0</td>\n",
       "    </tr>\n",
       "    <tr>\n",
       "      <th>10252</th>\n",
       "      <td>0.588235</td>\n",
       "      <td>0.005371</td>\n",
       "      <td>0.153504</td>\n",
       "      <td>0.266667</td>\n",
       "      <td>0.010417</td>\n",
       "      <td>0.133333</td>\n",
       "      <td>0.067568</td>\n",
       "      <td>0.100671</td>\n",
       "      <td>0.066667</td>\n",
       "      <td>0.04</td>\n",
       "      <td>...</td>\n",
       "      <td>1</td>\n",
       "      <td>1</td>\n",
       "      <td>0</td>\n",
       "      <td>1</td>\n",
       "      <td>0</td>\n",
       "      <td>0</td>\n",
       "      <td>1</td>\n",
       "      <td>1</td>\n",
       "      <td>0</td>\n",
       "      <td>0</td>\n",
       "    </tr>\n",
       "    <tr>\n",
       "      <th>10253</th>\n",
       "      <td>0.411765</td>\n",
       "      <td>0.156676</td>\n",
       "      <td>0.123471</td>\n",
       "      <td>0.133333</td>\n",
       "      <td>0.921875</td>\n",
       "      <td>0.146667</td>\n",
       "      <td>0.135135</td>\n",
       "      <td>0.140940</td>\n",
       "      <td>0.333333</td>\n",
       "      <td>0.04</td>\n",
       "      <td>...</td>\n",
       "      <td>1</td>\n",
       "      <td>1</td>\n",
       "      <td>0</td>\n",
       "      <td>1</td>\n",
       "      <td>0</td>\n",
       "      <td>0</td>\n",
       "      <td>1</td>\n",
       "      <td>1</td>\n",
       "      <td>0</td>\n",
       "      <td>0</td>\n",
       "    </tr>\n",
       "    <tr>\n",
       "      <th>10254</th>\n",
       "      <td>0.588235</td>\n",
       "      <td>0.011728</td>\n",
       "      <td>0.135706</td>\n",
       "      <td>0.500000</td>\n",
       "      <td>0.604167</td>\n",
       "      <td>0.093333</td>\n",
       "      <td>0.094595</td>\n",
       "      <td>0.093960</td>\n",
       "      <td>0.200000</td>\n",
       "      <td>0.04</td>\n",
       "      <td>...</td>\n",
       "      <td>1</td>\n",
       "      <td>1</td>\n",
       "      <td>0</td>\n",
       "      <td>1</td>\n",
       "      <td>0</td>\n",
       "      <td>0</td>\n",
       "      <td>1</td>\n",
       "      <td>0</td>\n",
       "      <td>1</td>\n",
       "      <td>1</td>\n",
       "    </tr>\n",
       "    <tr>\n",
       "      <th>10255</th>\n",
       "      <td>0.588235</td>\n",
       "      <td>0.021653</td>\n",
       "      <td>0.553949</td>\n",
       "      <td>0.466667</td>\n",
       "      <td>0.708333</td>\n",
       "      <td>0.053333</td>\n",
       "      <td>0.040541</td>\n",
       "      <td>0.046980</td>\n",
       "      <td>0.066667</td>\n",
       "      <td>0.00</td>\n",
       "      <td>...</td>\n",
       "      <td>1</td>\n",
       "      <td>1</td>\n",
       "      <td>0</td>\n",
       "      <td>1</td>\n",
       "      <td>0</td>\n",
       "      <td>0</td>\n",
       "      <td>1</td>\n",
       "      <td>0</td>\n",
       "      <td>1</td>\n",
       "      <td>0</td>\n",
       "    </tr>\n",
       "  </tbody>\n",
       "</table>\n",
       "<p>10255 rows × 42 columns</p>\n",
       "</div>"
      ],
      "text/plain": [
       "            AGE   BALANCE       SCR  HOLDING_PERIOD  LEN_OF_RLTN_IN_MNTH  \\\n",
       "1      0.176471  0.000405  0.751947        0.966667             0.609375   \n",
       "2      0.764706  0.034387  0.249166        0.900000             0.390625   \n",
       "3      0.558824  0.002179  0.559511        0.033333             0.166667   \n",
       "4      0.941176  0.008579  0.106785        0.400000             0.406250   \n",
       "5      0.441176  0.199945  0.074527        0.766667             0.812500   \n",
       "...         ...       ...       ...             ...                  ...   \n",
       "10251  0.558824  0.026315  0.338154        0.166667             0.067708   \n",
       "10252  0.588235  0.005371  0.153504        0.266667             0.010417   \n",
       "10253  0.411765  0.156676  0.123471        0.133333             0.921875   \n",
       "10254  0.588235  0.011728  0.135706        0.500000             0.604167   \n",
       "10255  0.588235  0.021653  0.553949        0.466667             0.708333   \n",
       "\n",
       "       NO_OF_L_CR_TXNS  NO_OF_L_DR_TXNS  TOT_NO_OF_L_TXNS  \\\n",
       "1             0.093333         0.040541          0.067114   \n",
       "2             0.106667         0.027027          0.067114   \n",
       "3             0.133333         0.067568          0.100671   \n",
       "4             0.480000         0.189189          0.335570   \n",
       "5             0.266667         0.013514          0.140940   \n",
       "...                ...              ...               ...   \n",
       "10251         0.026667         0.027027          0.026846   \n",
       "10252         0.133333         0.067568          0.100671   \n",
       "10253         0.146667         0.135135          0.140940   \n",
       "10254         0.093333         0.094595          0.093960   \n",
       "10255         0.053333         0.040541          0.046980   \n",
       "\n",
       "       NO_OF_BR_CSH_WDL_DR_TXNS  NO_OF_ATM_DR_TXNS  ...  ACC.TYPE.SA  \\\n",
       "1                      0.000000               0.04  ...            1   \n",
       "2                      0.000000               0.04  ...            1   \n",
       "3                      0.066667               0.04  ...            1   \n",
       "4                      0.266667               0.08  ...            0   \n",
       "5                      0.066667               0.00  ...            1   \n",
       "...                         ...                ...  ...          ...   \n",
       "10251                  0.066667               0.00  ...            1   \n",
       "10252                  0.066667               0.04  ...            1   \n",
       "10253                  0.333333               0.04  ...            1   \n",
       "10254                  0.200000               0.04  ...            1   \n",
       "10255                  0.066667               0.00  ...            1   \n",
       "\n",
       "       FLG.HAS.CC.0  FLG.HAS.CC.1  FLG.HAS.ANY.CHGS.0  FLG.HAS.ANY.CHGS.1  \\\n",
       "1                 1             0                   1                   0   \n",
       "2                 1             0                   0                   1   \n",
       "3                 1             0                   0                   1   \n",
       "4                 1             0                   1                   0   \n",
       "5                 1             0                   1                   0   \n",
       "...             ...           ...                 ...                 ...   \n",
       "10251             1             0                   1                   0   \n",
       "10252             1             0                   1                   0   \n",
       "10253             1             0                   1                   0   \n",
       "10254             1             0                   1                   0   \n",
       "10255             1             0                   1                   0   \n",
       "\n",
       "       FLG.HAS.NOMINEE.0  FLG.HAS.NOMINEE.1  FLG.HAS.OLD.LOAN.0  \\\n",
       "1                      0                  1                   0   \n",
       "2                      0                  1                   1   \n",
       "3                      0                  1                   0   \n",
       "4                      0                  1                   1   \n",
       "5                      0                  1                   1   \n",
       "...                  ...                ...                 ...   \n",
       "10251                  0                  1                   1   \n",
       "10252                  0                  1                   1   \n",
       "10253                  0                  1                   1   \n",
       "10254                  0                  1                   0   \n",
       "10255                  0                  1                   0   \n",
       "\n",
       "       FLG.HAS.OLD.LOAN.1  TARGET  \n",
       "1                       1       0  \n",
       "2                       0       0  \n",
       "3                       1       0  \n",
       "4                       0       0  \n",
       "5                       0       0  \n",
       "...                   ...     ...  \n",
       "10251                   0       0  \n",
       "10252                   0       0  \n",
       "10253                   0       0  \n",
       "10254                   1       1  \n",
       "10255                   1       0  \n",
       "\n",
       "[10255 rows x 42 columns]"
      ]
     },
     "execution_count": 184,
     "metadata": {},
     "output_type": "execute_result"
    }
   ],
   "source": [
    "df3"
   ]
  },
  {
   "cell_type": "code",
   "execution_count": null,
   "metadata": {},
   "outputs": [],
   "source": []
  },
  {
   "cell_type": "code",
   "execution_count": 187,
   "metadata": {},
   "outputs": [],
   "source": [
    "m=df3\n",
    "X=m.drop('TARGET', axis=1)\n",
    "y=df3[\"TARGET\"]\n",
    "\n",
    "from sklearn.model_selection import train_test_split\n",
    "X_train, X_test, y_train, y_test = train_test_split(X, y, \n",
    "                                                    test_size=0.30, random_state=0)"
   ]
  },
  {
   "cell_type": "code",
   "execution_count": 188,
   "metadata": {},
   "outputs": [
    {
     "data": {
      "text/plain": [
       "0    6337\n",
       "1     841\n",
       "Name: TARGET, dtype: int64"
      ]
     },
     "execution_count": 188,
     "metadata": {},
     "output_type": "execute_result"
    }
   ],
   "source": [
    "y_train.value_counts()"
   ]
  },
  {
   "cell_type": "code",
   "execution_count": 189,
   "metadata": {},
   "outputs": [],
   "source": [
    "mlp7 = MLPClassifier(activation='logistic',hidden_layer_sizes=(3),max_iter=500, solver='lbfgs')\n",
    "mlp7.fit(X_train,y_train)\n",
    "predictions7 = mlp7.predict(X_test)"
   ]
  },
  {
   "cell_type": "code",
   "execution_count": 193,
   "metadata": {},
   "outputs": [
    {
     "name": "stdout",
     "output_type": "stream",
     "text": [
      "[[2720   20]\n",
      " [ 328    9]]\n",
      "              precision    recall  f1-score   support\n",
      "\n",
      "           0       0.89      0.99      0.94      2740\n",
      "           1       0.31      0.03      0.05       337\n",
      "\n",
      "    accuracy                           0.89      3077\n",
      "   macro avg       0.60      0.51      0.49      3077\n",
      "weighted avg       0.83      0.89      0.84      3077\n",
      "\n"
     ]
    }
   ],
   "source": [
    "print(confusion_matrix(y_test,predictions7))\n",
    "print(classification_report(y_test,predictions7))"
   ]
  },
  {
   "cell_type": "code",
   "execution_count": 194,
   "metadata": {},
   "outputs": [
    {
     "data": {
      "text/plain": [
       "(2720, 20, 328, 9)"
      ]
     },
     "execution_count": 194,
     "metadata": {},
     "output_type": "execute_result"
    }
   ],
   "source": [
    "tn7, fp7, fn7, tp7 = confusion_matrix(y_test,predictions7).ravel()\n",
    "(tn7, fp7, fn7, tp7)"
   ]
  },
  {
   "cell_type": "code",
   "execution_count": 195,
   "metadata": {},
   "outputs": [
    {
     "data": {
      "text/plain": [
       "0.8869028274293143"
      ]
     },
     "execution_count": 195,
     "metadata": {},
     "output_type": "execute_result"
    }
   ],
   "source": [
    "accuracy_score(y_test, predictions7)"
   ]
  },
  {
   "cell_type": "code",
   "execution_count": 200,
   "metadata": {},
   "outputs": [
    {
     "data": {
      "text/plain": [
       "0.3103448275862069"
      ]
     },
     "execution_count": 200,
     "metadata": {},
     "output_type": "execute_result"
    }
   ],
   "source": [
    "precision_score(y_test, predictions7)"
   ]
  },
  {
   "cell_type": "code",
   "execution_count": 201,
   "metadata": {},
   "outputs": [
    {
     "data": {
      "text/plain": [
       "0.026706231454005934"
      ]
     },
     "execution_count": 201,
     "metadata": {},
     "output_type": "execute_result"
    }
   ],
   "source": [
    "recall_score(y_test, predictions7)"
   ]
  },
  {
   "cell_type": "code",
   "execution_count": 202,
   "metadata": {},
   "outputs": [
    {
     "data": {
      "text/plain": [
       "0.049180327868852465"
      ]
     },
     "execution_count": 202,
     "metadata": {},
     "output_type": "execute_result"
    }
   ],
   "source": [
    "f1_score(y_test, predictions7)"
   ]
  },
  {
   "cell_type": "code",
   "execution_count": 203,
   "metadata": {},
   "outputs": [
    {
     "data": {
      "text/plain": [
       "0.6980084039073837"
      ]
     },
     "execution_count": 203,
     "metadata": {},
     "output_type": "execute_result"
    }
   ],
   "source": [
    "fpr7, tpr7, threshold = roc_curve(y_test, mlp7.predict_proba(X_test)[:,1], pos_label= 1)\n",
    "roc_auc7 = auc(fpr7, tpr7)\n",
    "roc_auc7"
   ]
  },
  {
   "cell_type": "code",
   "execution_count": null,
   "metadata": {},
   "outputs": [],
   "source": []
  },
  {
   "cell_type": "code",
   "execution_count": null,
   "metadata": {},
   "outputs": [],
   "source": []
  },
  {
   "cell_type": "code",
   "execution_count": 204,
   "metadata": {},
   "outputs": [],
   "source": [
    "mlp8 = MLPClassifier(activation='logistic',hidden_layer_sizes=(5),max_iter=500, solver='lbfgs')\n",
    "mlp8.fit(X_train,y_train)\n",
    "predictions8 = mlp8.predict(X_test)"
   ]
  },
  {
   "cell_type": "code",
   "execution_count": 205,
   "metadata": {},
   "outputs": [
    {
     "name": "stdout",
     "output_type": "stream",
     "text": [
      "[[2706   34]\n",
      " [ 322   15]]\n",
      "              precision    recall  f1-score   support\n",
      "\n",
      "           0       0.89      0.99      0.94      2740\n",
      "           1       0.31      0.04      0.08       337\n",
      "\n",
      "    accuracy                           0.88      3077\n",
      "   macro avg       0.60      0.52      0.51      3077\n",
      "weighted avg       0.83      0.88      0.84      3077\n",
      "\n"
     ]
    }
   ],
   "source": [
    "print(confusion_matrix(y_test,predictions8))\n",
    "print(classification_report(y_test,predictions8))"
   ]
  },
  {
   "cell_type": "code",
   "execution_count": 212,
   "metadata": {},
   "outputs": [
    {
     "data": {
      "text/plain": [
       "(2706, 34, 322, 15)"
      ]
     },
     "execution_count": 212,
     "metadata": {},
     "output_type": "execute_result"
    }
   ],
   "source": [
    "tn8, fp8, fn8, tp8 = confusion_matrix(y_test,predictions8).ravel()\n",
    "(tn8, fp8, fn8, tp8)"
   ]
  },
  {
   "cell_type": "code",
   "execution_count": null,
   "metadata": {},
   "outputs": [],
   "source": []
  },
  {
   "cell_type": "code",
   "execution_count": 214,
   "metadata": {},
   "outputs": [
    {
     "data": {
      "text/plain": [
       "0.8843028924276893"
      ]
     },
     "execution_count": 214,
     "metadata": {},
     "output_type": "execute_result"
    }
   ],
   "source": [
    "accuracy_score(y_test, predictions8)"
   ]
  },
  {
   "cell_type": "code",
   "execution_count": 215,
   "metadata": {},
   "outputs": [
    {
     "data": {
      "text/plain": [
       "0.30612244897959184"
      ]
     },
     "execution_count": 215,
     "metadata": {},
     "output_type": "execute_result"
    }
   ],
   "source": [
    "precision_score(y_test, predictions8)"
   ]
  },
  {
   "cell_type": "code",
   "execution_count": 216,
   "metadata": {},
   "outputs": [
    {
     "data": {
      "text/plain": [
       "0.04451038575667656"
      ]
     },
     "execution_count": 216,
     "metadata": {},
     "output_type": "execute_result"
    }
   ],
   "source": [
    "recall_score(y_test, predictions8)"
   ]
  },
  {
   "cell_type": "code",
   "execution_count": 217,
   "metadata": {},
   "outputs": [
    {
     "data": {
      "text/plain": [
       "0.07772020725388602"
      ]
     },
     "execution_count": 217,
     "metadata": {},
     "output_type": "execute_result"
    }
   ],
   "source": [
    "f1_score(y_test, predictions8)"
   ]
  },
  {
   "cell_type": "code",
   "execution_count": 218,
   "metadata": {},
   "outputs": [
    {
     "data": {
      "text/plain": [
       "0.6787167796573459"
      ]
     },
     "execution_count": 218,
     "metadata": {},
     "output_type": "execute_result"
    }
   ],
   "source": [
    "fpr8, tpr8, threshold = roc_curve(y_test, mlp8.predict_proba(X_test)[:,1], pos_label= 1)\n",
    "roc_auc8 = auc(fpr8, tpr8)\n",
    "roc_auc8"
   ]
  },
  {
   "cell_type": "code",
   "execution_count": null,
   "metadata": {},
   "outputs": [],
   "source": []
  },
  {
   "cell_type": "code",
   "execution_count": null,
   "metadata": {},
   "outputs": [],
   "source": []
  },
  {
   "cell_type": "code",
   "execution_count": 231,
   "metadata": {},
   "outputs": [],
   "source": [
    "mlp9 = MLPClassifier(activation='logistic',hidden_layer_sizes=(3,5),max_iter=500, solver='lbfgs')\n",
    "mlp9.fit(X_train,y_train)\n",
    "predictions9 = mlp9.predict(X_test)"
   ]
  },
  {
   "cell_type": "code",
   "execution_count": 232,
   "metadata": {},
   "outputs": [
    {
     "name": "stdout",
     "output_type": "stream",
     "text": [
      "[[2713   27]\n",
      " [ 319   18]]\n",
      "              precision    recall  f1-score   support\n",
      "\n",
      "           0       0.89      0.99      0.94      2740\n",
      "           1       0.40      0.05      0.09       337\n",
      "\n",
      "    accuracy                           0.89      3077\n",
      "   macro avg       0.65      0.52      0.52      3077\n",
      "weighted avg       0.84      0.89      0.85      3077\n",
      "\n"
     ]
    }
   ],
   "source": [
    "print(confusion_matrix(y_test,predictions9))\n",
    "print(classification_report(y_test,predictions9))"
   ]
  },
  {
   "cell_type": "code",
   "execution_count": 233,
   "metadata": {},
   "outputs": [
    {
     "data": {
      "text/plain": [
       "(2713, 27, 319, 18)"
      ]
     },
     "execution_count": 233,
     "metadata": {},
     "output_type": "execute_result"
    }
   ],
   "source": [
    "tn9, fp9, fn9, tp9 = confusion_matrix(y_test,predictions9).ravel()\n",
    "(tn9, fp9, fn9, tp9)"
   ]
  },
  {
   "cell_type": "code",
   "execution_count": 234,
   "metadata": {},
   "outputs": [
    {
     "data": {
      "text/plain": [
       "0.8875528111797205"
      ]
     },
     "execution_count": 234,
     "metadata": {},
     "output_type": "execute_result"
    }
   ],
   "source": [
    "accuracy_score(y_test, predictions9)"
   ]
  },
  {
   "cell_type": "code",
   "execution_count": 235,
   "metadata": {},
   "outputs": [
    {
     "data": {
      "text/plain": [
       "0.4"
      ]
     },
     "execution_count": 235,
     "metadata": {},
     "output_type": "execute_result"
    }
   ],
   "source": [
    "precision_score(y_test, predictions9)"
   ]
  },
  {
   "cell_type": "code",
   "execution_count": 239,
   "metadata": {},
   "outputs": [
    {
     "data": {
      "text/plain": [
       "0.05341246290801187"
      ]
     },
     "execution_count": 239,
     "metadata": {},
     "output_type": "execute_result"
    }
   ],
   "source": [
    "recall_score(y_test, predictions9)"
   ]
  },
  {
   "cell_type": "code",
   "execution_count": 240,
   "metadata": {},
   "outputs": [
    {
     "data": {
      "text/plain": [
       "0.09424083769633507"
      ]
     },
     "execution_count": 240,
     "metadata": {},
     "output_type": "execute_result"
    }
   ],
   "source": [
    "f1_score(y_test, predictions9)"
   ]
  },
  {
   "cell_type": "code",
   "execution_count": 242,
   "metadata": {},
   "outputs": [
    {
     "data": {
      "text/plain": [
       "0.6940143819445949"
      ]
     },
     "execution_count": 242,
     "metadata": {},
     "output_type": "execute_result"
    }
   ],
   "source": [
    "fpr9, tpr9, threshold = roc_curve(y_test, mlp9.predict_proba(X_test)[:,1], pos_label= 1)\n",
    "roc_auc9 = auc(fpr9, tpr9)\n",
    "roc_auc9"
   ]
  },
  {
   "cell_type": "code",
   "execution_count": null,
   "metadata": {},
   "outputs": [],
   "source": []
  },
  {
   "cell_type": "code",
   "execution_count": null,
   "metadata": {},
   "outputs": [],
   "source": []
  },
  {
   "cell_type": "code",
   "execution_count": null,
   "metadata": {},
   "outputs": [],
   "source": [
    "################################## neural network perfromance on WoE encoded imbalanced data"
   ]
  },
  {
   "cell_type": "code",
   "execution_count": 243,
   "metadata": {},
   "outputs": [],
   "source": [
    "df4 = pd.read_csv(\"file:///Users/raghad/Desktop/loan-campaign/woe_data.csv\", index_col=0)"
   ]
  },
  {
   "cell_type": "code",
   "execution_count": 253,
   "metadata": {},
   "outputs": [],
   "source": [
    "m=df4\n",
    "X=m.drop('TARGET', axis=1)\n",
    "y=df4[\"TARGET\"]\n",
    "\n",
    "from sklearn.model_selection import train_test_split\n",
    "X_train, X_test, y_train, y_test = train_test_split(X, y, \n",
    "                                                    test_size=0.30, random_state=0)"
   ]
  },
  {
   "cell_type": "code",
   "execution_count": 254,
   "metadata": {},
   "outputs": [],
   "source": [
    "mlp10 = MLPClassifier(activation='logistic',hidden_layer_sizes=(3),max_iter=500, solver='lbfgs')\n",
    "mlp10.fit(X_train,y_train)\n",
    "predictions10 = mlp10.predict(X_test)"
   ]
  },
  {
   "cell_type": "code",
   "execution_count": 255,
   "metadata": {},
   "outputs": [
    {
     "name": "stdout",
     "output_type": "stream",
     "text": [
      "[[2701   39]\n",
      " [ 308   29]]\n",
      "              precision    recall  f1-score   support\n",
      "\n",
      "           0       0.90      0.99      0.94      2740\n",
      "           1       0.43      0.09      0.14       337\n",
      "\n",
      "    accuracy                           0.89      3077\n",
      "   macro avg       0.66      0.54      0.54      3077\n",
      "weighted avg       0.85      0.89      0.85      3077\n",
      "\n"
     ]
    }
   ],
   "source": [
    "print(confusion_matrix(y_test,predictions10))\n",
    "print(classification_report(y_test,predictions10))"
   ]
  },
  {
   "cell_type": "code",
   "execution_count": 256,
   "metadata": {},
   "outputs": [
    {
     "data": {
      "text/plain": [
       "(2701, 39, 308, 29)"
      ]
     },
     "execution_count": 256,
     "metadata": {},
     "output_type": "execute_result"
    }
   ],
   "source": [
    "tn10, fp10, fn10, tp10 = confusion_matrix(y_test,predictions10).ravel()\n",
    "(tn10, fp10, fn10, tp10)"
   ]
  },
  {
   "cell_type": "code",
   "execution_count": 257,
   "metadata": {},
   "outputs": [
    {
     "data": {
      "text/plain": [
       "0.8872278193045174"
      ]
     },
     "execution_count": 257,
     "metadata": {},
     "output_type": "execute_result"
    }
   ],
   "source": [
    "accuracy_score(y_test, predictions10)"
   ]
  },
  {
   "cell_type": "code",
   "execution_count": 258,
   "metadata": {},
   "outputs": [
    {
     "data": {
      "text/plain": [
       "0.4264705882352941"
      ]
     },
     "execution_count": 258,
     "metadata": {},
     "output_type": "execute_result"
    }
   ],
   "source": [
    "precision_score(y_test, predictions10)"
   ]
  },
  {
   "cell_type": "code",
   "execution_count": 259,
   "metadata": {},
   "outputs": [
    {
     "data": {
      "text/plain": [
       "0.08605341246290801"
      ]
     },
     "execution_count": 259,
     "metadata": {},
     "output_type": "execute_result"
    }
   ],
   "source": [
    "recall_score(y_test, predictions10)"
   ]
  },
  {
   "cell_type": "code",
   "execution_count": 260,
   "metadata": {},
   "outputs": [
    {
     "data": {
      "text/plain": [
       "0.14320987654320985"
      ]
     },
     "execution_count": 260,
     "metadata": {},
     "output_type": "execute_result"
    }
   ],
   "source": [
    "f1_score(y_test, predictions10)"
   ]
  },
  {
   "cell_type": "code",
   "execution_count": 261,
   "metadata": {},
   "outputs": [
    {
     "data": {
      "text/plain": [
       "0.7333502999848382"
      ]
     },
     "execution_count": 261,
     "metadata": {},
     "output_type": "execute_result"
    }
   ],
   "source": [
    "fpr10, tpr10, threshold = roc_curve(y_test, mlp10.predict_proba(X_test)[:,1], pos_label= 1)\n",
    "roc_auc10 = auc(fpr10, tpr10)\n",
    "roc_auc10"
   ]
  },
  {
   "cell_type": "code",
   "execution_count": null,
   "metadata": {},
   "outputs": [],
   "source": []
  },
  {
   "cell_type": "code",
   "execution_count": null,
   "metadata": {},
   "outputs": [],
   "source": []
  },
  {
   "cell_type": "code",
   "execution_count": 262,
   "metadata": {},
   "outputs": [],
   "source": [
    "mlp11 = MLPClassifier(activation='logistic',hidden_layer_sizes=(5),max_iter=500, solver='lbfgs')\n",
    "mlp11.fit(X_train,y_train)\n",
    "predictions11 = mlp11.predict(X_test)"
   ]
  },
  {
   "cell_type": "code",
   "execution_count": 263,
   "metadata": {},
   "outputs": [
    {
     "name": "stdout",
     "output_type": "stream",
     "text": [
      "[[2697   43]\n",
      " [ 305   32]]\n",
      "              precision    recall  f1-score   support\n",
      "\n",
      "           0       0.90      0.98      0.94      2740\n",
      "           1       0.43      0.09      0.16       337\n",
      "\n",
      "    accuracy                           0.89      3077\n",
      "   macro avg       0.66      0.54      0.55      3077\n",
      "weighted avg       0.85      0.89      0.85      3077\n",
      "\n"
     ]
    }
   ],
   "source": [
    "print(confusion_matrix(y_test,predictions11))\n",
    "print(classification_report(y_test,predictions11))"
   ]
  },
  {
   "cell_type": "code",
   "execution_count": 264,
   "metadata": {},
   "outputs": [
    {
     "data": {
      "text/plain": [
       "(2697, 43, 305, 32)"
      ]
     },
     "execution_count": 264,
     "metadata": {},
     "output_type": "execute_result"
    }
   ],
   "source": [
    "tn11, fp11, fn11, tp11 = confusion_matrix(y_test,predictions11).ravel()\n",
    "(tn11, fp11, fn11, tp11)"
   ]
  },
  {
   "cell_type": "code",
   "execution_count": 265,
   "metadata": {},
   "outputs": [
    {
     "data": {
      "text/plain": [
       "0.8869028274293143"
      ]
     },
     "execution_count": 265,
     "metadata": {},
     "output_type": "execute_result"
    }
   ],
   "source": [
    "accuracy_score(y_test, predictions11)"
   ]
  },
  {
   "cell_type": "code",
   "execution_count": 266,
   "metadata": {},
   "outputs": [
    {
     "data": {
      "text/plain": [
       "0.4266666666666667"
      ]
     },
     "execution_count": 266,
     "metadata": {},
     "output_type": "execute_result"
    }
   ],
   "source": [
    "precision_score(y_test, predictions11)"
   ]
  },
  {
   "cell_type": "code",
   "execution_count": 267,
   "metadata": {},
   "outputs": [
    {
     "data": {
      "text/plain": [
       "0.09495548961424333"
      ]
     },
     "execution_count": 267,
     "metadata": {},
     "output_type": "execute_result"
    }
   ],
   "source": [
    "recall_score(y_test, predictions11)"
   ]
  },
  {
   "cell_type": "code",
   "execution_count": 268,
   "metadata": {},
   "outputs": [
    {
     "data": {
      "text/plain": [
       "0.15533980582524273"
      ]
     },
     "execution_count": 268,
     "metadata": {},
     "output_type": "execute_result"
    }
   ],
   "source": [
    "f1_score(y_test, predictions11)"
   ]
  },
  {
   "cell_type": "code",
   "execution_count": 269,
   "metadata": {},
   "outputs": [
    {
     "data": {
      "text/plain": [
       "0.7118661872685136"
      ]
     },
     "execution_count": 269,
     "metadata": {},
     "output_type": "execute_result"
    }
   ],
   "source": [
    "fpr11, tpr11, threshold = roc_curve(y_test, mlp11.predict_proba(X_test)[:,1], pos_label= 1)\n",
    "roc_auc11 = auc(fpr11, tpr11)\n",
    "roc_auc11"
   ]
  },
  {
   "cell_type": "code",
   "execution_count": null,
   "metadata": {},
   "outputs": [],
   "source": []
  },
  {
   "cell_type": "code",
   "execution_count": null,
   "metadata": {},
   "outputs": [],
   "source": []
  },
  {
   "cell_type": "code",
   "execution_count": 270,
   "metadata": {},
   "outputs": [],
   "source": [
    "mlp12 = MLPClassifier(activation='logistic',hidden_layer_sizes=(3,5),max_iter=500, solver='lbfgs')\n",
    "mlp12.fit(X_train,y_train)\n",
    "predictions12 = mlp12.predict(X_test)"
   ]
  },
  {
   "cell_type": "code",
   "execution_count": 271,
   "metadata": {},
   "outputs": [
    {
     "name": "stdout",
     "output_type": "stream",
     "text": [
      "[[2714   26]\n",
      " [ 301   36]]\n",
      "              precision    recall  f1-score   support\n",
      "\n",
      "           0       0.90      0.99      0.94      2740\n",
      "           1       0.58      0.11      0.18       337\n",
      "\n",
      "    accuracy                           0.89      3077\n",
      "   macro avg       0.74      0.55      0.56      3077\n",
      "weighted avg       0.87      0.89      0.86      3077\n",
      "\n"
     ]
    }
   ],
   "source": [
    "print(confusion_matrix(y_test,predictions12))\n",
    "print(classification_report(y_test,predictions12))"
   ]
  },
  {
   "cell_type": "code",
   "execution_count": 272,
   "metadata": {},
   "outputs": [
    {
     "data": {
      "text/plain": [
       "(2714, 26, 301, 36)"
      ]
     },
     "execution_count": 272,
     "metadata": {},
     "output_type": "execute_result"
    }
   ],
   "source": [
    "tn12, fp12, fn12, tp12 = confusion_matrix(y_test,predictions12).ravel()\n",
    "(tn12, fp12, fn12, tp12)"
   ]
  },
  {
   "cell_type": "code",
   "execution_count": 273,
   "metadata": {},
   "outputs": [
    {
     "data": {
      "text/plain": [
       "0.8937276568085798"
      ]
     },
     "execution_count": 273,
     "metadata": {},
     "output_type": "execute_result"
    }
   ],
   "source": [
    "accuracy_score(y_test, predictions12)"
   ]
  },
  {
   "cell_type": "code",
   "execution_count": 274,
   "metadata": {},
   "outputs": [
    {
     "data": {
      "text/plain": [
       "0.5806451612903226"
      ]
     },
     "execution_count": 274,
     "metadata": {},
     "output_type": "execute_result"
    }
   ],
   "source": [
    "precision_score(y_test, predictions12)"
   ]
  },
  {
   "cell_type": "code",
   "execution_count": 275,
   "metadata": {},
   "outputs": [
    {
     "data": {
      "text/plain": [
       "0.10682492581602374"
      ]
     },
     "execution_count": 275,
     "metadata": {},
     "output_type": "execute_result"
    }
   ],
   "source": [
    "recall_score(y_test, predictions12)"
   ]
  },
  {
   "cell_type": "code",
   "execution_count": 276,
   "metadata": {},
   "outputs": [
    {
     "data": {
      "text/plain": [
       "0.18045112781954886"
      ]
     },
     "execution_count": 276,
     "metadata": {},
     "output_type": "execute_result"
    }
   ],
   "source": [
    "f1_score(y_test, predictions12)"
   ]
  },
  {
   "cell_type": "code",
   "execution_count": 277,
   "metadata": {},
   "outputs": [
    {
     "data": {
      "text/plain": [
       "0.7384717017912452"
      ]
     },
     "execution_count": 277,
     "metadata": {},
     "output_type": "execute_result"
    }
   ],
   "source": [
    "fpr12, tpr12, threshold = roc_curve(y_test, mlp12.predict_proba(X_test)[:,1], pos_label= 1)\n",
    "roc_auc12 = auc(fpr12, tpr12)\n",
    "roc_auc12"
   ]
  },
  {
   "cell_type": "code",
   "execution_count": null,
   "metadata": {},
   "outputs": [],
   "source": []
  }
 ],
 "metadata": {
  "kernelspec": {
   "display_name": "Python 3",
   "language": "python",
   "name": "python3"
  },
  "language_info": {
   "codemirror_mode": {
    "name": "ipython",
    "version": 3
   },
   "file_extension": ".py",
   "mimetype": "text/x-python",
   "name": "python",
   "nbconvert_exporter": "python",
   "pygments_lexer": "ipython3",
   "version": "3.7.1"
  }
 },
 "nbformat": 4,
 "nbformat_minor": 2
}
